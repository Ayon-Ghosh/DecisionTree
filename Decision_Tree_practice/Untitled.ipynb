{
 "cells": [
  {
   "cell_type": "markdown",
   "metadata": {},
   "source": [
    "# Decision Tree Algo"
   ]
  },
  {
   "cell_type": "code",
   "execution_count": 1,
   "metadata": {},
   "outputs": [
    {
     "name": "stdout",
     "output_type": "stream",
     "text": [
      "Note: you may need to restart the kernel to use updated packages.\n"
     ]
    },
    {
     "name": "stderr",
     "output_type": "stream",
     "text": [
      "ERROR: unknown command \"python-graphviz\"\n",
      "\n"
     ]
    }
   ],
   "source": [
    "pip python-graphviz"
   ]
  },
  {
   "cell_type": "code",
   "execution_count": 2,
   "metadata": {},
   "outputs": [
    {
     "name": "stdout",
     "output_type": "stream",
     "text": [
      "Collecting package metadata (current_repodata.json): ...working... done\n",
      "Solving environment: ...working... done\n",
      "\n",
      "## Package Plan ##\n",
      "\n",
      "  environment location: C:\\Users\\ayonh\\anaconda3\n",
      "\n",
      "  added / updated specs:\n",
      "    - python-graphviz\n",
      "\n",
      "\n",
      "The following packages will be downloaded:\n",
      "\n",
      "    package                    |            build\n",
      "    ---------------------------|-----------------\n",
      "    conda-4.8.3                |           py37_0         3.0 MB  anaconda\n",
      "    graphviz-2.38              |       hfd603c8_2        37.7 MB  anaconda\n",
      "    python-graphviz-0.14       |             py_0          25 KB  anaconda\n",
      "    ------------------------------------------------------------\n",
      "                                           Total:        40.8 MB\n",
      "\n",
      "The following NEW packages will be INSTALLED:\n",
      "\n",
      "  graphviz           anaconda/win-64::graphviz-2.38-hfd603c8_2\n",
      "  python-graphviz    anaconda/noarch::python-graphviz-0.14-py_0\n",
      "\n",
      "The following packages will be UPDATED:\n",
      "\n",
      "  conda                       pkgs/main::conda-4.8.2-py37_0 --> anaconda::conda-4.8.3-py37_0\n",
      "\n",
      "\n",
      "\n",
      "Downloading and Extracting Packages\n",
      "\n",
      "graphviz-2.38        | 37.7 MB   |            |   0% \n",
      "graphviz-2.38        | 37.7 MB   |            |   0% \n",
      "graphviz-2.38        | 37.7 MB   | 1          |   1% \n",
      "graphviz-2.38        | 37.7 MB   | 1          |   2% \n",
      "graphviz-2.38        | 37.7 MB   | 2          |   2% \n",
      "graphviz-2.38        | 37.7 MB   | 2          |   3% \n",
      "graphviz-2.38        | 37.7 MB   | 3          |   4% \n",
      "graphviz-2.38        | 37.7 MB   | 4          |   4% \n",
      "graphviz-2.38        | 37.7 MB   | 4          |   5% \n",
      "graphviz-2.38        | 37.7 MB   | 5          |   6% \n",
      "graphviz-2.38        | 37.7 MB   | 6          |   6% \n",
      "graphviz-2.38        | 37.7 MB   | 6          |   7% \n",
      "graphviz-2.38        | 37.7 MB   | 7          |   7% \n",
      "graphviz-2.38        | 37.7 MB   | 7          |   8% \n",
      "graphviz-2.38        | 37.7 MB   | 8          |   8% \n",
      "graphviz-2.38        | 37.7 MB   | 8          |   9% \n",
      "graphviz-2.38        | 37.7 MB   | 9          |   9% \n",
      "graphviz-2.38        | 37.7 MB   | 9          |  10% \n",
      "graphviz-2.38        | 37.7 MB   | #          |  10% \n",
      "graphviz-2.38        | 37.7 MB   | #          |  11% \n",
      "graphviz-2.38        | 37.7 MB   | #1         |  11% \n",
      "graphviz-2.38        | 37.7 MB   | #1         |  12% \n",
      "graphviz-2.38        | 37.7 MB   | #2         |  12% \n",
      "graphviz-2.38        | 37.7 MB   | #2         |  13% \n",
      "graphviz-2.38        | 37.7 MB   | #3         |  14% \n",
      "graphviz-2.38        | 37.7 MB   | #4         |  14% \n",
      "graphviz-2.38        | 37.7 MB   | #4         |  15% \n",
      "graphviz-2.38        | 37.7 MB   | #5         |  15% \n",
      "graphviz-2.38        | 37.7 MB   | #6         |  16% \n",
      "graphviz-2.38        | 37.7 MB   | #6         |  17% \n",
      "graphviz-2.38        | 37.7 MB   | #8         |  18% \n",
      "graphviz-2.38        | 37.7 MB   | #8         |  19% \n",
      "graphviz-2.38        | 37.7 MB   | #9         |  20% \n",
      "graphviz-2.38        | 37.7 MB   | ##         |  21% \n",
      "graphviz-2.38        | 37.7 MB   | ##1        |  21% \n",
      "graphviz-2.38        | 37.7 MB   | ##2        |  22% \n",
      "graphviz-2.38        | 37.7 MB   | ##3        |  23% \n",
      "graphviz-2.38        | 37.7 MB   | ##4        |  24% \n",
      "graphviz-2.38        | 37.7 MB   | ##4        |  25% \n",
      "graphviz-2.38        | 37.7 MB   | ##5        |  25% \n",
      "graphviz-2.38        | 37.7 MB   | ##6        |  26% \n",
      "graphviz-2.38        | 37.7 MB   | ##6        |  27% \n",
      "graphviz-2.38        | 37.7 MB   | ##7        |  27% \n",
      "graphviz-2.38        | 37.7 MB   | ##8        |  28% \n",
      "graphviz-2.38        | 37.7 MB   | ##8        |  29% \n",
      "graphviz-2.38        | 37.7 MB   | ##9        |  29% \n",
      "graphviz-2.38        | 37.7 MB   | ##9        |  30% \n",
      "graphviz-2.38        | 37.7 MB   | ###        |  31% \n",
      "graphviz-2.38        | 37.7 MB   | ###1       |  31% \n",
      "graphviz-2.38        | 37.7 MB   | ###2       |  32% \n",
      "graphviz-2.38        | 37.7 MB   | ###2       |  33% \n",
      "graphviz-2.38        | 37.7 MB   | ###3       |  34% \n",
      "graphviz-2.38        | 37.7 MB   | ###4       |  34% \n",
      "graphviz-2.38        | 37.7 MB   | ###5       |  35% \n",
      "graphviz-2.38        | 37.7 MB   | ###5       |  36% \n",
      "graphviz-2.38        | 37.7 MB   | ###6       |  36% \n",
      "graphviz-2.38        | 37.7 MB   | ###7       |  37% \n",
      "graphviz-2.38        | 37.7 MB   | ###7       |  38% \n",
      "graphviz-2.38        | 37.7 MB   | ###9       |  39% \n",
      "graphviz-2.38        | 37.7 MB   | ####       |  40% \n",
      "graphviz-2.38        | 37.7 MB   | ####1      |  42% \n",
      "graphviz-2.38        | 37.7 MB   | ####2      |  42% \n",
      "graphviz-2.38        | 37.7 MB   | ####3      |  44% \n",
      "graphviz-2.38        | 37.7 MB   | ####4      |  45% \n",
      "graphviz-2.38        | 37.7 MB   | ####5      |  45% \n",
      "graphviz-2.38        | 37.7 MB   | ####6      |  46% \n",
      "graphviz-2.38        | 37.7 MB   | ####7      |  48% \n",
      "graphviz-2.38        | 37.7 MB   | ####8      |  49% \n",
      "graphviz-2.38        | 37.7 MB   | ####9      |  49% \n",
      "graphviz-2.38        | 37.7 MB   | #####      |  50% \n",
      "graphviz-2.38        | 37.7 MB   | #####      |  51% \n",
      "graphviz-2.38        | 37.7 MB   | #####1     |  52% \n",
      "graphviz-2.38        | 37.7 MB   | #####2     |  52% \n",
      "graphviz-2.38        | 37.7 MB   | #####3     |  53% \n",
      "graphviz-2.38        | 37.7 MB   | #####4     |  54% \n",
      "graphviz-2.38        | 37.7 MB   | #####4     |  55% \n",
      "graphviz-2.38        | 37.7 MB   | #####5     |  56% \n",
      "graphviz-2.38        | 37.7 MB   | #####6     |  57% \n",
      "graphviz-2.38        | 37.7 MB   | #####7     |  58% \n",
      "graphviz-2.38        | 37.7 MB   | #####8     |  58% \n",
      "graphviz-2.38        | 37.7 MB   | #####9     |  59% \n",
      "graphviz-2.38        | 37.7 MB   | ######     |  60% \n",
      "graphviz-2.38        | 37.7 MB   | ######     |  61% \n",
      "graphviz-2.38        | 37.7 MB   | ######1    |  61% \n",
      "graphviz-2.38        | 37.7 MB   | ######2    |  62% \n",
      "graphviz-2.38        | 37.7 MB   | ######2    |  63% \n",
      "graphviz-2.38        | 37.7 MB   | ######3    |  63% \n",
      "graphviz-2.38        | 37.7 MB   | ######4    |  64% \n",
      "graphviz-2.38        | 37.7 MB   | ######4    |  65% \n",
      "graphviz-2.38        | 37.7 MB   | ######5    |  65% \n",
      "graphviz-2.38        | 37.7 MB   | ######5    |  66% \n",
      "graphviz-2.38        | 37.7 MB   | ######6    |  66% \n",
      "graphviz-2.38        | 37.7 MB   | ######6    |  67% \n",
      "graphviz-2.38        | 37.7 MB   | ######8    |  68% \n",
      "graphviz-2.38        | 37.7 MB   | ######8    |  69% \n",
      "graphviz-2.38        | 37.7 MB   | #######    |  70% \n",
      "graphviz-2.38        | 37.7 MB   | #######    |  71% \n",
      "graphviz-2.38        | 37.7 MB   | #######1   |  72% \n",
      "graphviz-2.38        | 37.7 MB   | #######2   |  73% \n",
      "graphviz-2.38        | 37.7 MB   | #######4   |  74% \n",
      "graphviz-2.38        | 37.7 MB   | #######4   |  75% \n",
      "graphviz-2.38        | 37.7 MB   | #######5   |  76% \n",
      "graphviz-2.38        | 37.7 MB   | #######6   |  77% \n",
      "graphviz-2.38        | 37.7 MB   | #######7   |  78% \n",
      "graphviz-2.38        | 37.7 MB   | #######8   |  79% \n",
      "graphviz-2.38        | 37.7 MB   | #######9   |  80% \n",
      "graphviz-2.38        | 37.7 MB   | ########   |  81% \n",
      "graphviz-2.38        | 37.7 MB   | ########1  |  81% \n",
      "graphviz-2.38        | 37.7 MB   | ########2  |  82% \n",
      "graphviz-2.38        | 37.7 MB   | ########2  |  83% \n",
      "graphviz-2.38        | 37.7 MB   | ########3  |  84% \n",
      "graphviz-2.38        | 37.7 MB   | ########4  |  84% \n",
      "graphviz-2.38        | 37.7 MB   | ########5  |  86% \n",
      "graphviz-2.38        | 37.7 MB   | ########6  |  87% \n",
      "graphviz-2.38        | 37.7 MB   | ########7  |  88% \n",
      "graphviz-2.38        | 37.7 MB   | ########8  |  89% \n",
      "graphviz-2.38        | 37.7 MB   | ########9  |  89% \n",
      "graphviz-2.38        | 37.7 MB   | #########  |  91% \n",
      "graphviz-2.38        | 37.7 MB   | #########2 |  93% \n",
      "graphviz-2.38        | 37.7 MB   | #########3 |  94% \n",
      "graphviz-2.38        | 37.7 MB   | #########4 |  95% \n",
      "graphviz-2.38        | 37.7 MB   | #########5 |  96% \n",
      "graphviz-2.38        | 37.7 MB   | #########6 |  97% \n",
      "graphviz-2.38        | 37.7 MB   | #########8 |  98% \n",
      "graphviz-2.38        | 37.7 MB   | #########9 | 100% \n",
      "graphviz-2.38        | 37.7 MB   | ########## | 100% \n",
      "\n",
      "conda-4.8.3          | 3.0 MB    |            |   0% \n",
      "conda-4.8.3          | 3.0 MB    |            |   1% \n",
      "conda-4.8.3          | 3.0 MB    | 8          |   9% \n",
      "conda-4.8.3          | 3.0 MB    | #7         |  17% \n",
      "conda-4.8.3          | 3.0 MB    | ##5        |  26% \n",
      "conda-4.8.3          | 3.0 MB    | ###1       |  32% \n",
      "conda-4.8.3          | 3.0 MB    | #####      |  51% \n",
      "conda-4.8.3          | 3.0 MB    | ######1    |  62% \n",
      "conda-4.8.3          | 3.0 MB    | #######7   |  78% \n",
      "conda-4.8.3          | 3.0 MB    | ########7  |  88% \n",
      "conda-4.8.3          | 3.0 MB    | ########## | 100% \n",
      "\n",
      "python-graphviz-0.14 | 25 KB     |            |   0% \n",
      "python-graphviz-0.14 | 25 KB     | ########## | 100% \n",
      "Preparing transaction: ...working... done\n",
      "Verifying transaction: ...working... done\n",
      "Executing transaction: ...working... done\n",
      "\n",
      "Note: you may need to restart the kernel to use updated packages.\n"
     ]
    },
    {
     "name": "stderr",
     "output_type": "stream",
     "text": [
      "\n",
      "\n",
      "==> WARNING: A newer version of conda exists. <==\n",
      "  current version: 4.8.2\n",
      "  latest version: 4.8.3\n",
      "\n",
      "Please update conda by running\n",
      "\n",
      "    $ conda update -n base -c defaults conda\n",
      "\n",
      "\n"
     ]
    }
   ],
   "source": [
    "conda install -c anaconda python-graphviz"
   ]
  },
  {
   "cell_type": "code",
   "execution_count": 1,
   "metadata": {},
   "outputs": [
    {
     "name": "stdout",
     "output_type": "stream",
     "text": [
      "Collecting package metadata (current_repodata.json): ...working... done\n",
      "Solving environment: ...working... done\n",
      "\n",
      "# All requested packages already installed.\n",
      "\n",
      "\n",
      "Note: you may need to restart the kernel to use updated packages.\n"
     ]
    }
   ],
   "source": [
    "conda install -c anaconda pydot"
   ]
  },
  {
   "cell_type": "code",
   "execution_count": 2,
   "metadata": {},
   "outputs": [
    {
     "name": "stdout",
     "output_type": "stream",
     "text": [
      "\n",
      "Note: you may need to restart the kernel to use updated packages.\n"
     ]
    },
    {
     "name": "stderr",
     "output_type": "stream",
     "text": [
      "Warning: 'conda-forge' already in 'channels' list, moving to the top\n"
     ]
    }
   ],
   "source": [
    "conda config --add channels conda-forge"
   ]
  },
  {
   "cell_type": "code",
   "execution_count": 1,
   "metadata": {},
   "outputs": [
    {
     "name": "stdout",
     "output_type": "stream",
     "text": [
      "Collecting package metadata (current_repodata.json): ...working... done\n",
      "Solving environment: ...working... done\n",
      "\n",
      "## Package Plan ##\n",
      "\n",
      "  environment location: C:\\Users\\ayonh\\anaconda3\n",
      "\n",
      "  added / updated specs:\n",
      "    - pydotplus\n",
      "\n",
      "\n",
      "The following packages will be downloaded:\n",
      "\n",
      "    package                    |            build\n",
      "    ---------------------------|-----------------\n",
      "    conda-4.8.3                |   py37hc8dfbb8_1         3.1 MB  conda-forge\n",
      "    pydotplus-2.0.2            |             py_2          23 KB  conda-forge\n",
      "    python_abi-3.7             |          1_cp37m           4 KB  conda-forge\n",
      "    ------------------------------------------------------------\n",
      "                                           Total:         3.1 MB\n",
      "\n",
      "The following NEW packages will be INSTALLED:\n",
      "\n",
      "  pydotplus          conda-forge/noarch::pydotplus-2.0.2-py_2\n",
      "  python_abi         conda-forge/win-64::python_abi-3.7-1_cp37m\n",
      "\n",
      "The following packages will be UPDATED:\n",
      "\n",
      "  conda                        anaconda::conda-4.8.3-py37_0 --> conda-forge::conda-4.8.3-py37hc8dfbb8_1\n",
      "\n",
      "\n",
      "\n",
      "Downloading and Extracting Packages\n",
      "\n",
      "python_abi-3.7       | 4 KB      |            |   0% \n",
      "python_abi-3.7       | 4 KB      | ########## | 100% \n",
      "\n",
      "pydotplus-2.0.2      | 23 KB     |            |   0% \n",
      "pydotplus-2.0.2      | 23 KB     | ######9    |  69% \n",
      "pydotplus-2.0.2      | 23 KB     | ########## | 100% \n",
      "\n",
      "conda-4.8.3          | 3.1 MB    |            |   0% \n",
      "conda-4.8.3          | 3.1 MB    | 6          |   6% \n",
      "conda-4.8.3          | 3.1 MB    | ##3        |  23% \n",
      "conda-4.8.3          | 3.1 MB    | ###7       |  37% \n",
      "conda-4.8.3          | 3.1 MB    | #####4     |  55% \n",
      "conda-4.8.3          | 3.1 MB    | ######6    |  66% \n",
      "conda-4.8.3          | 3.1 MB    | ########1  |  82% \n",
      "conda-4.8.3          | 3.1 MB    | #########3 |  94% \n",
      "conda-4.8.3          | 3.1 MB    | ########## | 100% \n",
      "Preparing transaction: ...working... done\n",
      "Verifying transaction: ...working... done\n",
      "Executing transaction: ...working... done\n",
      "\n",
      "Note: you may need to restart the kernel to use updated packages.\n"
     ]
    }
   ],
   "source": [
    "conda install pydotplus"
   ]
  },
  {
   "cell_type": "code",
   "execution_count": null,
   "metadata": {},
   "outputs": [],
   "source": []
  },
  {
   "cell_type": "code",
   "execution_count": null,
   "metadata": {},
   "outputs": [],
   "source": []
  }
 ],
 "metadata": {
  "kernelspec": {
   "display_name": "Python 3",
   "language": "python",
   "name": "python3"
  },
  "language_info": {
   "codemirror_mode": {
    "name": "ipython",
    "version": 3
   },
   "file_extension": ".py",
   "mimetype": "text/x-python",
   "name": "python",
   "nbconvert_exporter": "python",
   "pygments_lexer": "ipython3",
   "version": "3.7.6"
  }
 },
 "nbformat": 4,
 "nbformat_minor": 4
}
